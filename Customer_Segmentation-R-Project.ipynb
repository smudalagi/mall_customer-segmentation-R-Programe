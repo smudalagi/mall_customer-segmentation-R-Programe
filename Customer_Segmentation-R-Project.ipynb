{
 "cells": [
  {
   "cell_type": "code",
   "execution_count": 1,
   "id": "34a558fa",
   "metadata": {},
   "outputs": [],
   "source": [
    "Customer_df=read.csv(\"Mall_Customers.csv\")"
   ]
  },
  {
   "cell_type": "code",
   "execution_count": 2,
   "id": "0b5984a9",
   "metadata": {},
   "outputs": [
    {
     "data": {
      "text/html": [
       "<table>\n",
       "<thead><tr><th scope=col>CustomerID</th><th scope=col>Genre</th><th scope=col>Age</th><th scope=col>Annual.Income..k..</th><th scope=col>Spending.Score..1.100.</th></tr></thead>\n",
       "<tbody>\n",
       "\t<tr><td>1     </td><td>Male  </td><td>19    </td><td>15    </td><td>39    </td></tr>\n",
       "\t<tr><td>2     </td><td>Male  </td><td>21    </td><td>15    </td><td>81    </td></tr>\n",
       "\t<tr><td>3     </td><td>Female</td><td>20    </td><td>16    </td><td> 6    </td></tr>\n",
       "\t<tr><td>4     </td><td>Female</td><td>23    </td><td>16    </td><td>77    </td></tr>\n",
       "\t<tr><td>5     </td><td>Female</td><td>31    </td><td>17    </td><td>40    </td></tr>\n",
       "\t<tr><td>6     </td><td>Female</td><td>22    </td><td>17    </td><td>76    </td></tr>\n",
       "</tbody>\n",
       "</table>\n"
      ],
      "text/latex": [
       "\\begin{tabular}{r|lllll}\n",
       " CustomerID & Genre & Age & Annual.Income..k.. & Spending.Score..1.100.\\\\\n",
       "\\hline\n",
       "\t 1      & Male   & 19     & 15     & 39    \\\\\n",
       "\t 2      & Male   & 21     & 15     & 81    \\\\\n",
       "\t 3      & Female & 20     & 16     &  6    \\\\\n",
       "\t 4      & Female & 23     & 16     & 77    \\\\\n",
       "\t 5      & Female & 31     & 17     & 40    \\\\\n",
       "\t 6      & Female & 22     & 17     & 76    \\\\\n",
       "\\end{tabular}\n"
      ],
      "text/markdown": [
       "\n",
       "| CustomerID | Genre | Age | Annual.Income..k.. | Spending.Score..1.100. |\n",
       "|---|---|---|---|---|\n",
       "| 1      | Male   | 19     | 15     | 39     |\n",
       "| 2      | Male   | 21     | 15     | 81     |\n",
       "| 3      | Female | 20     | 16     |  6     |\n",
       "| 4      | Female | 23     | 16     | 77     |\n",
       "| 5      | Female | 31     | 17     | 40     |\n",
       "| 6      | Female | 22     | 17     | 76     |\n",
       "\n"
      ],
      "text/plain": [
       "  CustomerID Genre  Age Annual.Income..k.. Spending.Score..1.100.\n",
       "1 1          Male   19  15                 39                    \n",
       "2 2          Male   21  15                 81                    \n",
       "3 3          Female 20  16                  6                    \n",
       "4 4          Female 23  16                 77                    \n",
       "5 5          Female 31  17                 40                    \n",
       "6 6          Female 22  17                 76                    "
      ]
     },
     "metadata": {},
     "output_type": "display_data"
    }
   ],
   "source": [
    "head(Customer_df)"
   ]
  },
  {
   "cell_type": "code",
   "execution_count": 3,
   "id": "8e47b7ef",
   "metadata": {},
   "outputs": [
    {
     "data": {
      "text/html": [
       "<ol class=list-inline>\n",
       "\t<li>'CustomerID'</li>\n",
       "\t<li>'Genre'</li>\n",
       "\t<li>'Age'</li>\n",
       "\t<li>'Annual.Income..k..'</li>\n",
       "\t<li>'Spending.Score..1.100.'</li>\n",
       "</ol>\n"
      ],
      "text/latex": [
       "\\begin{enumerate*}\n",
       "\\item 'CustomerID'\n",
       "\\item 'Genre'\n",
       "\\item 'Age'\n",
       "\\item 'Annual.Income..k..'\n",
       "\\item 'Spending.Score..1.100.'\n",
       "\\end{enumerate*}\n"
      ],
      "text/markdown": [
       "1. 'CustomerID'\n",
       "2. 'Genre'\n",
       "3. 'Age'\n",
       "4. 'Annual.Income..k..'\n",
       "5. 'Spending.Score..1.100.'\n",
       "\n",
       "\n"
      ],
      "text/plain": [
       "[1] \"CustomerID\"             \"Genre\"                  \"Age\"                   \n",
       "[4] \"Annual.Income..k..\"     \"Spending.Score..1.100.\""
      ]
     },
     "metadata": {},
     "output_type": "display_data"
    }
   ],
   "source": [
    "names(Customer_df)"
   ]
  },
  {
   "cell_type": "code",
   "execution_count": 4,
   "id": "c83561c5",
   "metadata": {},
   "outputs": [
    {
     "data": {
      "text/plain": [
       "   Min. 1st Qu.  Median    Mean 3rd Qu.    Max. \n",
       "  18.00   28.75   36.00   38.85   49.00   70.00 "
      ]
     },
     "metadata": {},
     "output_type": "display_data"
    }
   ],
   "source": [
    "summary(Customer_df$Age)"
   ]
  },
  {
   "cell_type": "code",
   "execution_count": 5,
   "id": "8f12568c",
   "metadata": {},
   "outputs": [
    {
     "data": {
      "text/html": [
       "13.9690073315589"
      ],
      "text/latex": [
       "13.9690073315589"
      ],
      "text/markdown": [
       "13.9690073315589"
      ],
      "text/plain": [
       "[1] 13.96901"
      ]
     },
     "metadata": {},
     "output_type": "display_data"
    }
   ],
   "source": [
    "sd(Customer_df$Age)"
   ]
  },
  {
   "cell_type": "code",
   "execution_count": 6,
   "id": "e31ffc96",
   "metadata": {},
   "outputs": [
    {
     "data": {
      "text/plain": [
       "   Min. 1st Qu.  Median    Mean 3rd Qu.    Max. \n",
       "  15.00   41.50   61.50   60.56   78.00  137.00 "
      ]
     },
     "metadata": {},
     "output_type": "display_data"
    }
   ],
   "source": [
    "summary(Customer_df$Annual.Income..k..)"
   ]
  },
  {
   "cell_type": "code",
   "execution_count": 7,
   "id": "785cf1f0",
   "metadata": {},
   "outputs": [
    {
     "data": {
      "text/html": [
       "26.2647211652712"
      ],
      "text/latex": [
       "26.2647211652712"
      ],
      "text/markdown": [
       "26.2647211652712"
      ],
      "text/plain": [
       "[1] 26.26472"
      ]
     },
     "metadata": {},
     "output_type": "display_data"
    }
   ],
   "source": [
    "sd(Customer_df$Annual.Income..k..)"
   ]
  },
  {
   "cell_type": "code",
   "execution_count": 8,
   "id": "a7760113",
   "metadata": {},
   "outputs": [
    {
     "data": {
      "text/plain": [
       "   Min. 1st Qu.  Median    Mean 3rd Qu.    Max. \n",
       "   1.00   34.75   50.00   50.20   73.00   99.00 "
      ]
     },
     "metadata": {},
     "output_type": "display_data"
    }
   ],
   "source": [
    "summary(Customer_df$Spending.Score..1.100.)"
   ]
  },
  {
   "cell_type": "code",
   "execution_count": 9,
   "id": "84b4aea6",
   "metadata": {},
   "outputs": [
    {
     "data": {
      "text/html": [
       "25.8235216683702"
      ],
      "text/latex": [
       "25.8235216683702"
      ],
      "text/markdown": [
       "25.8235216683702"
      ],
      "text/plain": [
       "[1] 25.82352"
      ]
     },
     "metadata": {},
     "output_type": "display_data"
    }
   ],
   "source": [
    "sd(Customer_df$Spending.Score..1.100.)"
   ]
  },
  {
   "cell_type": "code",
   "execution_count": 10,
   "id": "30c7a367",
   "metadata": {},
   "outputs": [],
   "source": [
    "a=table(Customer_df$Genre)"
   ]
  },
  {
   "cell_type": "code",
   "execution_count": 11,
   "id": "902d9e83",
   "metadata": {},
   "outputs": [
    {
     "data": {
      "text/plain": [
       "\n",
       "Female   Male \n",
       "   112     88 "
      ]
     },
     "metadata": {},
     "output_type": "display_data"
    }
   ],
   "source": [
    "a"
   ]
  },
  {
   "cell_type": "code",
   "execution_count": 12,
   "id": "f31ecdf1",
   "metadata": {},
   "outputs": [
    {
     "data": {
      "image/png": "[encoded data removed]",
      "text/plain": [
       "Plot with title \"Using BarPlot to display Gender Comparision\""
      ]
     },
     "metadata": {},
     "output_type": "display_data"
    }
   ],
   "source": [
    "barplot(a,main=\"Using BarPlot to display Gender Comparision\",\n",
    "        ylab=\"Count\",\n",
    "        xlab=\"Gender\",\n",
    "        col=rainbow(2),\n",
    "        legend=rownames(a))"
   ]
  },
  {
   "cell_type": "code",
   "execution_count": 13,
   "id": "5c758671",
   "metadata": {},
   "outputs": [],
   "source": [
    "pct=round(a/sum(a)*100)\n"
   ]
  },
  {
   "cell_type": "code",
   "execution_count": 14,
   "id": "c2c936c3",
   "metadata": {},
   "outputs": [
    {
     "data": {
      "text/plain": [
       "\n",
       "Female   Male \n",
       "    56     44 "
      ]
     },
     "metadata": {},
     "output_type": "display_data"
    }
   ],
   "source": [
    "pct"
   ]
  },
  {
   "cell_type": "code",
   "execution_count": 15,
   "id": "c9123eb3",
   "metadata": {},
   "outputs": [],
   "source": [
    "per=paste(c(\"Female\",\"Male\"),\" \",pct,\"%\",sep=\" \")\n"
   ]
  },
  {
   "cell_type": "code",
   "execution_count": 16,
   "id": "b244ebee",
   "metadata": {},
   "outputs": [
    {
     "data": {
      "text/html": [
       "<ol class=list-inline>\n",
       "\t<li><span style=white-space:pre-wrap>'Female   56 %'</span></li>\n",
       "\t<li><span style=white-space:pre-wrap>'Male   44 %'</span></li>\n",
       "</ol>\n"
      ],
      "text/latex": [
       "\\begin{enumerate*}\n",
       "\\item 'Female   56 \\%'\n",
       "\\item 'Male   44 \\%'\n",
       "\\end{enumerate*}\n"
      ],
      "text/markdown": [
       "1. <span style=white-space:pre-wrap>'Female   56 %'</span>\n",
       "2. <span style=white-space:pre-wrap>'Male   44 %'</span>\n",
       "\n",
       "\n"
      ],
      "text/plain": [
       "[1] \"Female   56 %\" \"Male   44 %\"  "
      ]
     },
     "metadata": {},
     "output_type": "display_data"
    }
   ],
   "source": [
    "per"
   ]
  },
  {
   "cell_type": "code",
   "execution_count": 17,
   "id": "78975dd6",
   "metadata": {},
   "outputs": [
    {
     "data": {
      "image/png": "[encoded data removed]",
      "text/plain": [
       "Plot with title \"Histogram to Show Count of Age Class\""
      ]
     },
     "metadata": {},
     "output_type": "display_data"
    }
   ],
   "source": [
    "hist(Customer_df$Age,\n",
    "     col=\"blue\",\n",
    "     main=\"Histogram to Show Count of Age Class\",\n",
    "     xlab=\"Age Class\",\n",
    "     ylab=\"Frequency\",\n",
    "     labels=TRUE)"
   ]
  },
  {
   "cell_type": "code",
   "execution_count": 18,
   "id": "d91bd04d",
   "metadata": {},
   "outputs": [
    {
     "data": {
      "image/png": "[encoded data removed]",
      "text/plain": [
       "Plot with title \"Boxplot for Descriptive Analysis of Age\""
      ]
     },
     "metadata": {},
     "output_type": "display_data"
    }
   ],
   "source": [
    "boxplot(Customer_df$Age,\n",
    "        col=\"#ff0066\",\n",
    "        main=\"Boxplot for Descriptive Analysis of Age\")"
   ]
  },
  {
   "cell_type": "code",
   "execution_count": 19,
   "id": "344ed443",
   "metadata": {},
   "outputs": [
    {
     "data": {
      "image/png": "[encoded data removed]",
      "text/plain": [
       "Plot with title \"Histogram for Annual Income\""
      ]
     },
     "metadata": {},
     "output_type": "display_data"
    }
   ],
   "source": [
    "hist(Customer_df$Annual.Income..k..,\n",
    "     col=\"#660033\",\n",
    "     main=\"Histogram for Annual Income\",\n",
    "     xlab=\"Annual Income Class\",\n",
    "     ylab=\"Frequency\",\n",
    "     labels=TRUE)"
   ]
  },
  {
   "cell_type": "code",
   "execution_count": 20,
   "id": "ce14ff10",
   "metadata": {},
   "outputs": [
    {
     "data": {
      "image/png": "[encoded data removed]",
      "text/plain": [
       "Plot with title \"Density Plot for Annual Income\""
      ]
     },
     "metadata": {},
     "output_type": "display_data"
    }
   ],
   "source": [
    "plot(density(Customer_df$Annual.Income..k..),\n",
    "     col=\"yellow\",\n",
    "     main=\"Density Plot for Annual Income\",\n",
    "     xlab=\"Annual Income Class\",\n",
    "     ylab=\"Density\")"
   ]
  },
  {
   "cell_type": "code",
   "execution_count": 21,
   "id": "1b108876",
   "metadata": {},
   "outputs": [
    {
     "data": {
      "image/png": "[encoded data removed]",
      "text/plain": [
       "Plot with title \"BoxPlot for Descriptive Analysis of Spending Score\""
      ]
     },
     "metadata": {},
     "output_type": "display_data"
    }
   ],
   "source": [
    "boxplot(Customer_df$Spending.Score..1.100.,\n",
    "        horizontal=TRUE,\n",
    "        col=\"#990000\",\n",
    "        main=\"BoxPlot for Descriptive Analysis of Spending Score\")"
   ]
  },
  {
   "cell_type": "code",
   "execution_count": 22,
   "id": "7ac0725d",
   "metadata": {},
   "outputs": [
    {
     "data": {
      "image/png": "[encoded data removed]",
      "text/plain": [
       "Plot with title \"HistoGram for Spending Score\""
      ]
     },
     "metadata": {},
     "output_type": "display_data"
    }
   ],
   "source": [
    "hist(Customer_df$Spending.Score..1.100.,\n",
    "     main=\"HistoGram for Spending Score\",\n",
    "     xlab=\"Spending Score Class\",\n",
    "     ylab=\"Frequency\",\n",
    "     col=\"#6600cc\",\n",
    "     labels=TRUE)"
   ]
  },
  {
   "cell_type": "code",
   "execution_count": 23,
   "id": "1cd62700",
   "metadata": {},
   "outputs": [
    {
     "name": "stderr",
     "output_type": "stream",
     "text": [
      "also installing the dependencies 'processx', 'xfun', 'lifecycle', 'tidyselect', 'vctrs', 'scales', 'gargle', 'timechange', 'systemfonts', 'vroom', 'callr', 'knitr', 'glue', 'broom', 'conflicted', 'cli', 'dbplyr', 'dplyr', 'dtplyr', 'forcats', 'ggplot2', 'googledrive', 'googlesheets4', 'haven', 'hms', 'jsonlite', 'lubridate', 'magrittr', 'modelr', 'pillar', 'purrr', 'ragg', 'readr', 'readxl', 'reprex', 'rlang', 'rvest', 'stringr', 'tibble', 'tidyr', 'xml2'\n",
      "\n"
     ]
    },
    {
     "name": "stdout",
     "output_type": "stream",
     "text": [
      "\n",
      "  There are binary versions available but the source versions are later:\n",
      "              binary source needs_compilation\n",
      "processx       3.5.2  3.8.0              TRUE\n",
      "xfun            0.22   0.38              TRUE\n",
      "lifecycle      1.0.0  1.0.3             FALSE\n",
      "tidyselect     1.1.1  1.2.0             FALSE\n",
      "vctrs          0.3.8  0.6.1              TRUE\n",
      "scales         1.1.1  1.2.1             FALSE\n",
      "gargle         1.1.0  1.3.0             FALSE\n",
      "timechange     0.0.2  0.2.0              TRUE\n",
      "systemfonts    1.0.2  1.0.4              TRUE\n",
      "vroom          1.4.0  1.6.1              TRUE\n",
      "callr          3.7.0  3.7.3             FALSE\n",
      "knitr           1.33   1.42             FALSE\n",
      "glue           1.4.2  1.6.2              TRUE\n",
      "broom          0.7.6  1.0.4             FALSE\n",
      "conflicted     1.0.4  1.2.0             FALSE\n",
      "cli            2.5.0  3.6.1              TRUE\n",
      "dbplyr         2.1.1  2.3.2             FALSE\n",
      "dplyr          1.0.6  1.1.1              TRUE\n",
      "dtplyr         1.1.0  1.3.1             FALSE\n",
      "forcats        0.5.1  1.0.0             FALSE\n",
      "ggplot2        3.3.3  3.4.2             FALSE\n",
      "googledrive    1.0.1  2.1.0             FALSE\n",
      "googlesheets4  0.3.0  1.1.0             FALSE\n",
      "haven          2.4.1  2.5.2              TRUE\n",
      "hms            1.0.0  1.1.3             FALSE\n",
      "jsonlite       1.7.2  1.8.4              TRUE\n",
      "lubridate     1.7.10  1.9.2              TRUE\n",
      "magrittr       2.0.1  2.0.3              TRUE\n",
      "modelr         0.1.8 0.1.11             FALSE\n",
      "pillar         1.6.0  1.9.0             FALSE\n",
      "purrr          0.3.4  1.0.1              TRUE\n",
      "ragg           1.1.2  1.2.5              TRUE\n",
      "readr          1.4.0  2.1.4              TRUE\n",
      "readxl         1.3.1  1.4.2              TRUE\n",
      "reprex         2.0.0  2.0.2             FALSE\n",
      "rlang         0.4.11  1.1.0              TRUE\n",
      "rvest          1.0.0  1.0.3             FALSE\n",
      "stringr        1.4.0  1.5.0             FALSE\n",
      "tibble         3.1.1  3.2.1              TRUE\n",
      "tidyr          1.1.3  1.3.0              TRUE\n",
      "xml2           1.3.2  1.3.3              TRUE\n",
      "tidyverse      1.3.1  2.0.0             FALSE\n",
      "\n",
      "  Binaries will be installed\n",
      "package 'processx' successfully unpacked and MD5 sums checked\n",
      "package 'xfun' successfully unpacked and MD5 sums checked\n",
      "package 'vctrs' successfully unpacked and MD5 sums checked\n",
      "package 'timechange' successfully unpacked and MD5 sums checked\n",
      "package 'systemfonts' successfully unpacked and MD5 sums checked\n",
      "package 'vroom' successfully unpacked and MD5 sums checked\n",
      "package 'glue' successfully unpacked and MD5 sums checked\n",
      "package 'cli' successfully unpacked and MD5 sums checked\n",
      "package 'dplyr' successfully unpacked and MD5 sums checked\n",
      "package 'haven' successfully unpacked and MD5 sums checked\n",
      "package 'jsonlite' successfully unpacked and MD5 sums checked\n"
     ]
    },
    {
     "name": "stderr",
     "output_type": "stream",
     "text": [
      "Warning message:\n",
      "\"cannot remove prior installation of package 'jsonlite'\"Warning message in file.copy(savedcopy, lib, recursive = TRUE):\n",
      "\"problem copying C:\\Users\\Hp\\anaconda3\\envs\\rProgramming\\Lib\\R\\library\\00LOCK\\jsonlite\\libs\\x64\\jsonlite.dll to C:\\Users\\Hp\\anaconda3\\envs\\rProgramming\\Lib\\R\\library\\jsonlite\\libs\\x64\\jsonlite.dll: Permission denied\"Warning message:\n",
      "\"restored 'jsonlite'\""
     ]
    },
    {
     "name": "stdout",
     "output_type": "stream",
     "text": [
      "package 'lubridate' successfully unpacked and MD5 sums checked\n",
      "package 'magrittr' successfully unpacked and MD5 sums checked\n",
      "package 'purrr' successfully unpacked and MD5 sums checked\n",
      "package 'ragg' successfully unpacked and MD5 sums checked\n",
      "package 'readr' successfully unpacked and MD5 sums checked\n",
      "package 'readxl' successfully unpacked and MD5 sums checked\n",
      "package 'rlang' successfully unpacked and MD5 sums checked\n",
      "package 'tibble' successfully unpacked and MD5 sums checked\n",
      "package 'tidyr' successfully unpacked and MD5 sums checked\n",
      "package 'xml2' successfully unpacked and MD5 sums checked\n",
      "\n",
      "The downloaded binary packages are in\n",
      "\tC:\\Users\\Hp\\AppData\\Local\\Temp\\RtmpQJCqGu\\downloaded_packages\n"
     ]
    },
    {
     "name": "stderr",
     "output_type": "stream",
     "text": [
      "installing the source packages 'lifecycle', 'tidyselect', 'scales', 'gargle', 'callr', 'knitr', 'broom', 'conflicted', 'dbplyr', 'dtplyr', 'forcats', 'ggplot2', 'googledrive', 'googlesheets4', 'hms', 'modelr', 'pillar', 'reprex', 'rvest', 'stringr', 'tidyverse'\n",
      "\n",
      "Warning message in install.packages(\"tidyverse\"):\n",
      "\"installation of package 'lifecycle' had non-zero exit status\"Warning message in install.packages(\"tidyverse\"):\n",
      "\"installation of package 'callr' had non-zero exit status\"Warning message in install.packages(\"tidyverse\"):\n",
      "\"installation of package 'knitr' had non-zero exit status\"Warning message in install.packages(\"tidyverse\"):\n",
      "\"installation of package 'conflicted' had non-zero exit status\"Warning message in install.packages(\"tidyverse\"):\n",
      "\"installation of package 'tidyselect' had non-zero exit status\"Warning message in install.packages(\"tidyverse\"):\n",
      "\"installation of package 'scales' had non-zero exit status\"Warning message in install.packages(\"tidyverse\"):\n",
      "\"installation of package 'gargle' had non-zero exit status\"Warning message in install.packages(\"tidyverse\"):\n",
      "\"installation of package 'forcats' had non-zero exit status\"Warning message in install.packages(\"tidyverse\"):\n",
      "\"installation of package 'hms' had non-zero exit status\"Warning message in install.packages(\"tidyverse\"):\n",
      "\"installation of package 'pillar' had non-zero exit status\"Warning message in install.packages(\"tidyverse\"):\n",
      "\"installation of package 'reprex' had non-zero exit status\"Warning message in install.packages(\"tidyverse\"):\n",
      "\"installation of package 'rvest' had non-zero exit status\"Warning message in install.packages(\"tidyverse\"):\n",
      "\"installation of package 'stringr' had non-zero exit status\"Warning message in install.packages(\"tidyverse\"):\n",
      "\"installation of package 'broom' had non-zero exit status\"Warning message in install.packages(\"tidyverse\"):\n",
      "\"installation of package 'dbplyr' had non-zero exit status\"Warning message in install.packages(\"tidyverse\"):\n",
      "\"installation of package 'dtplyr' had non-zero exit status\"Warning message in install.packages(\"tidyverse\"):\n",
      "\"installation of package 'ggplot2' had non-zero exit status\"Warning message in install.packages(\"tidyverse\"):\n",
      "\"installation of package 'googledrive' had non-zero exit status\"Warning message in install.packages(\"tidyverse\"):\n",
      "\"installation of package 'googlesheets4' had non-zero exit status\"Warning message in install.packages(\"tidyverse\"):\n",
      "\"installation of package 'modelr' had non-zero exit status\"Warning message in install.packages(\"tidyverse\"):\n",
      "\"installation of package 'tidyverse' had non-zero exit status\""
     ]
    }
   ],
   "source": [
    "install.packages(\"tidyverse\")"
   ]
  },
  {
   "cell_type": "code",
   "execution_count": 24,
   "id": "2e11e907",
   "metadata": {},
   "outputs": [],
   "source": [
    "set.seed(123)"
   ]
  },
  {
   "cell_type": "code",
   "execution_count": 25,
   "id": "b9820731",
   "metadata": {},
   "outputs": [],
   "source": [
    "iss <- function(k) {\n",
    "  kmeans(Customer_df[,3:5],k,iter.max=100,nstart=100,algorithm=\"Lloyd\" )$tot.withinss\n",
    "}"
   ]
  },
  {
   "cell_type": "code",
   "execution_count": 26,
   "id": "5d4693dc",
   "metadata": {},
   "outputs": [],
   "source": [
    "k.values <- 1:10"
   ]
  },
  {
   "cell_type": "code",
   "execution_count": 27,
   "id": "ece7fcfc",
   "metadata": {},
   "outputs": [
    {
     "data": {
      "text/html": [
       "<ol class=list-inline>\n",
       "\t<li>1</li>\n",
       "\t<li>2</li>\n",
       "\t<li>3</li>\n",
       "\t<li>4</li>\n",
       "\t<li>5</li>\n",
       "\t<li>6</li>\n",
       "\t<li>7</li>\n",
       "\t<li>8</li>\n",
       "\t<li>9</li>\n",
       "\t<li>10</li>\n",
       "</ol>\n"
      ],
      "text/latex": [
       "\\begin{enumerate*}\n",
       "\\item 1\n",
       "\\item 2\n",
       "\\item 3\n",
       "\\item 4\n",
       "\\item 5\n",
       "\\item 6\n",
       "\\item 7\n",
       "\\item 8\n",
       "\\item 9\n",
       "\\item 10\n",
       "\\end{enumerate*}\n"
      ],
      "text/markdown": [
       "1. 1\n",
       "2. 2\n",
       "3. 3\n",
       "4. 4\n",
       "5. 5\n",
       "6. 6\n",
       "7. 7\n",
       "8. 8\n",
       "9. 9\n",
       "10. 10\n",
       "\n",
       "\n"
      ],
      "text/plain": [
       " [1]  1  2  3  4  5  6  7  8  9 10"
      ]
     },
     "metadata": {},
     "output_type": "display_data"
    }
   ],
   "source": [
    "k.values"
   ]
  },
  {
   "cell_type": "code",
   "execution_count": 28,
   "id": "489510de",
   "metadata": {},
   "outputs": [
    {
     "ename": "ERROR",
     "evalue": "Error in xy.coords(x, y, xlabel, ylabel, log): object 'iss_values' not found\n",
     "output_type": "error",
     "traceback": [
      "Error in xy.coords(x, y, xlabel, ylabel, log): object 'iss_values' not found\nTraceback:\n",
      "1. plot(k.values, iss_values, type = \"b\", pch = 19, frame = FALSE, \n .     xlab = \"Number of clusters K\", ylab = \"Total intra-clusters sum of squares\")",
      "2. plot.default(k.values, iss_values, type = \"b\", pch = 19, frame = FALSE, \n .     xlab = \"Number of clusters K\", ylab = \"Total intra-clusters sum of squares\")",
      "3. xy.coords(x, y, xlabel, ylabel, log)"
     ]
    }
   ],
   "source": [
    "plot(k.values, iss_values,\n",
    "     type=\"b\", pch = 19, frame = FALSE, \n",
    "     xlab=\"Number of clusters K\",\n",
    "     ylab=\"Total intra-clusters sum of squares\")\n"
   ]
  },
  {
   "cell_type": "code",
   "execution_count": 29,
   "id": "57f68699",
   "metadata": {},
   "outputs": [
    {
     "name": "stderr",
     "output_type": "stream",
     "text": [
      "Warning message:\n",
      "\"package 'purrr' was built under R version 3.6.3\""
     ]
    }
   ],
   "source": [
    "library(purrr)"
   ]
  },
  {
   "cell_type": "code",
   "execution_count": 30,
   "id": "cf05b208",
   "metadata": {},
   "outputs": [],
   "source": [
    "iss_values <- map_dbl(k.values, iss)"
   ]
  },
  {
   "cell_type": "code",
   "execution_count": 31,
   "id": "20b28732",
   "metadata": {},
   "outputs": [
    {
     "data": {
      "image/png": "[encoded data removed]",
      "text/plain": [
       "plot without title"
      ]
     },
     "metadata": {},
     "output_type": "display_data"
    }
   ],
   "source": [
    "plot(k.values, iss_values,\n",
    "     type=\"b\", pch = 19, frame = FALSE, \n",
    "     xlab=\"Number of clusters K\",\n",
    "     ylab=\"Total intra-clusters sum of squares\")\n"
   ]
  },
  {
   "cell_type": "code",
   "execution_count": 33,
   "id": "c4126997",
   "metadata": {},
   "outputs": [],
   "source": [
    "library(cluster) \n"
   ]
  },
  {
   "cell_type": "code",
   "execution_count": 34,
   "id": "e0ea161d",
   "metadata": {},
   "outputs": [],
   "source": [
    "library(grid)\n"
   ]
  },
  {
   "cell_type": "code",
   "execution_count": 35,
   "id": "69001c19",
   "metadata": {},
   "outputs": [
    {
     "data": {
      "image/png": "[encoded data removed]",
      "text/plain": [
       "Plot with title \"Silhouette plot of (x = k2$cluster, dist = dist(Customer_df[, 3:5], \"euclidean\"))\""
      ]
     },
     "metadata": {},
     "output_type": "display_data"
    }
   ],
   "source": [
    "k2<-kmeans(Customer_df[,3:5],2,iter.max=100,nstart=50,algorithm=\"Lloyd\")\n",
    "s2<-plot(silhouette(k2$cluster,dist(Customer_df[,3:5],\"euclidean\")))"
   ]
  },
  {
   "cell_type": "code",
   "execution_count": 36,
   "id": "c47af8d8",
   "metadata": {},
   "outputs": [
    {
     "data": {
      "image/png": "[encoded data removed]",
      "text/plain": [
       "Plot with title \"Silhouette plot of (x = k3$cluster, dist = dist(Customer_df[, 3:5], \"euclidean\"))\""
      ]
     },
     "metadata": {},
     "output_type": "display_data"
    }
   ],
   "source": [
    "k3<-kmeans(Customer_df[,3:5],3,iter.max=100,nstart=50,algorithm=\"Lloyd\")\n",
    "s3<-plot(silhouette(k3$cluster,dist(Customer_df[,3:5],\"euclidean\")))"
   ]
  },
  {
   "cell_type": "code",
   "execution_count": 37,
   "id": "6fb570a4",
   "metadata": {},
   "outputs": [
    {
     "data": {
      "image/png": "[encoded data removed]",
      "text/plain": [
       "Plot with title \"Silhouette plot of (x = k4$cluster, dist = dist(Customer_df[, 3:5], \"euclidean\"))\""
      ]
     },
     "metadata": {},
     "output_type": "display_data"
    }
   ],
   "source": [
    "k4<-kmeans(Customer_df[,3:5],4,iter.max=100,nstart=50,algorithm=\"Lloyd\")\n",
    "s4<-plot(silhouette(k4$cluster,dist(Customer_df[,3:5],\"euclidean\")))"
   ]
  },
  {
   "cell_type": "code",
   "execution_count": 38,
   "id": "af683e11",
   "metadata": {},
   "outputs": [
    {
     "data": {
      "image/png": "[encoded data removed]",
      "text/plain": [
       "Plot with title \"Silhouette plot of (x = k5$cluster, dist = dist(Customer_df[, 3:5], \"euclidean\"))\""
      ]
     },
     "metadata": {},
     "output_type": "display_data"
    }
   ],
   "source": [
    "k5<-kmeans(Customer_df[,3:5],5,iter.max=100,nstart=50,algorithm=\"Lloyd\")\n",
    "s5<-plot(silhouette(k5$cluster,dist(Customer_df[,3:5],\"euclidean\")))"
   ]
  },
  {
   "cell_type": "code",
   "execution_count": 39,
   "id": "b20dbbfe",
   "metadata": {},
   "outputs": [
    {
     "data": {
      "image/png": "[encoded data removed]",
      "text/plain": [
       "Plot with title \"Silhouette plot of (x = k6$cluster, dist = dist(Customer_df[, 3:5], \"euclidean\"))\""
      ]
     },
     "metadata": {},
     "output_type": "display_data"
    }
   ],
   "source": [
    "k6<-kmeans(Customer_df[,3:5],6,iter.max=100,nstart=50,algorithm=\"Lloyd\")\n",
    "s6<-plot(silhouette(k6$cluster,dist(Customer_df[,3:5],\"euclidean\")))"
   ]
  },
  {
   "cell_type": "code",
   "execution_count": 40,
   "id": "60a5df30",
   "metadata": {},
   "outputs": [
    {
     "data": {
      "image/png": "[encoded data removed]",
      "text/plain": [
       "Plot with title \"Silhouette plot of (x = k8$cluster, dist = dist(Customer_df[, 3:5], \"euclidean\"))\""
      ]
     },
     "metadata": {},
     "output_type": "display_data"
    }
   ],
   "source": [
    "k8<-kmeans(Customer_df[,3:5],8,iter.max=100,nstart=50,algorithm=\"Lloyd\")\n",
    "s8<-plot(silhouette(k8$cluster,dist(Customer_df[,3:5],\"euclidean\")))"
   ]
  },
  {
   "cell_type": "code",
   "execution_count": 41,
   "id": "b5baf23c",
   "metadata": {},
   "outputs": [
    {
     "data": {
      "image/png": "[encoded data removed]",
      "text/plain": [
       "Plot with title \"Silhouette plot of (x = k10$cluster, dist = dist(Customer_df[, 3:5], \"euclidean\"))\""
      ]
     },
     "metadata": {},
     "output_type": "display_data"
    }
   ],
   "source": [
    "k10<-kmeans(Customer_df[,3:5],10,iter.max=100,nstart=50,algorithm=\"Lloyd\")\n",
    "s10<-plot(silhouette(k10$cluster,dist(Customer_df[,3:5],\"euclidean\")))"
   ]
  },
  {
   "cell_type": "code",
   "execution_count": 49,
   "id": "12e8070b",
   "metadata": {},
   "outputs": [
    {
     "data": {
      "text/html": [
       "'C:/Users/Hp/anaconda3/envs/rProgramming/Lib/R/library'"
      ],
      "text/latex": [
       "'C:/Users/Hp/anaconda3/envs/rProgramming/Lib/R/library'"
      ],
      "text/markdown": [
       "'C:/Users/Hp/anaconda3/envs/rProgramming/Lib/R/library'"
      ],
      "text/plain": [
       "[1] \"C:/Users/Hp/anaconda3/envs/rProgramming/Lib/R/library\""
      ]
     },
     "metadata": {},
     "output_type": "display_data"
    }
   ],
   "source": [
    ".libPaths()"
   ]
  },
  {
   "cell_type": "code",
   "execution_count": 50,
   "id": "edd06468",
   "metadata": {},
   "outputs": [],
   "source": [
    "lib_path = 'C:/Users/Hp/anaconda3/envs/rProgramming/Lib/R/library'"
   ]
  },
  {
   "cell_type": "code",
   "execution_count": 52,
   "id": "17a57577",
   "metadata": {},
   "outputs": [
    {
     "name": "stderr",
     "output_type": "stream",
     "text": [
      "also installing the dependencies 'cli', 'lifecycle', 'rlang', 'scales', 'vctrs'\n",
      "\n"
     ]
    },
    {
     "name": "stdout",
     "output_type": "stream",
     "text": [
      "\n",
      "  There are binary versions available but the source versions are later:\n",
      "          binary source needs_compilation\n",
      "cli        2.5.0  3.6.1              TRUE\n",
      "lifecycle  1.0.0  1.0.3             FALSE\n",
      "rlang     0.4.11  1.1.0              TRUE\n",
      "scales     1.1.1  1.2.1             FALSE\n",
      "vctrs      0.3.8  0.6.1              TRUE\n",
      "ggplot2    3.3.3  3.4.2             FALSE\n",
      "\n",
      "  Binaries will be installed\n",
      "package 'cli' successfully unpacked and MD5 sums checked\n",
      "package 'rlang' successfully unpacked and MD5 sums checked\n"
     ]
    },
    {
     "name": "stderr",
     "output_type": "stream",
     "text": [
      "Warning message:\n",
      "\"cannot remove prior installation of package 'rlang'\"Warning message in file.copy(savedcopy, lib, recursive = TRUE):\n",
      "\"problem copying C:\\Users\\Hp\\anaconda3\\envs\\rProgramming\\Lib\\R\\library\\00LOCK\\rlang\\libs\\x64\\rlang.dll to C:\\Users\\Hp\\anaconda3\\envs\\rProgramming\\Lib\\R\\library\\rlang\\libs\\x64\\rlang.dll: Permission denied\"Warning message:\n",
      "\"restored 'rlang'\""
     ]
    },
    {
     "name": "stdout",
     "output_type": "stream",
     "text": [
      "package 'vctrs' successfully unpacked and MD5 sums checked\n",
      "\n",
      "The downloaded binary packages are in\n",
      "\tC:\\Users\\Hp\\AppData\\Local\\Temp\\RtmpQJCqGu\\downloaded_packages\n"
     ]
    },
    {
     "name": "stderr",
     "output_type": "stream",
     "text": [
      "installing the source packages 'lifecycle', 'scales', 'ggplot2'\n",
      "\n",
      "Warning message in install.packages(\"ggplot2\", lib = lib_path):\n",
      "\"installation of package 'lifecycle' had non-zero exit status\"Warning message in install.packages(\"ggplot2\", lib = lib_path):\n",
      "\"installation of package 'scales' had non-zero exit status\"Warning message in install.packages(\"ggplot2\", lib = lib_path):\n",
      "\"installation of package 'ggplot2' had non-zero exit status\""
     ]
    }
   ],
   "source": [
    "install.packages (\"ggplot2\",lib=lib_path)"
   ]
  },
  {
   "cell_type": "code",
   "execution_count": 59,
   "id": "6c0d8b07",
   "metadata": {},
   "outputs": [],
   "source": [
    "set.seed(125)\n",
    "stat_gap <- clusGap(Customer_df[,3:5], FUN = kmeans, nstart = 25,\n",
    "                    K.max = 10, B = 50)"
   ]
  },
  {
   "cell_type": "code",
   "execution_count": 60,
   "id": "9e2a6351",
   "metadata": {},
   "outputs": [
    {
     "data": {
      "text/plain": [
       "Clustering Gap statistic [\"clusGap\"] from call:\n",
       "clusGap(x = Customer_df[, 3:5], FUNcluster = kmeans, K.max = 10,     B = 50, nstart = 25)\n",
       "B=50 simulated reference sets, k = 1..10; spaceH0=\"scaledPCA\"\n",
       " --> Number of clusters (method 'firstSEmax', SE.factor=1): 1\n",
       "          logW   E.logW       gap     SE.sim\n",
       " [1,] 7.829990 8.265650 0.4356598 0.02054127\n",
       " [2,] 7.625794 8.024133 0.3983392 0.02012202\n",
       " [3,] 7.417921 7.832783 0.4148628 0.01799628\n",
       " [4,] 7.256540 7.683714 0.4271743 0.01771477\n",
       " [5,] 7.104745 7.604455 0.4997102 0.01738683\n",
       " [6,] 6.965334 7.534672 0.5693380 0.01689499\n",
       " [7,] 6.903828 7.473816 0.5699873 0.01872147\n",
       " [8,] 6.847482 7.419406 0.5719234 0.01850817\n",
       " [9,] 6.804519 7.370929 0.5664102 0.01892675\n",
       "[10,] 6.749955 7.326044 0.5760886 0.01760941"
      ]
     },
     "metadata": {},
     "output_type": "display_data"
    }
   ],
   "source": [
    "stat_gap"
   ]
  },
  {
   "cell_type": "code",
   "execution_count": 61,
   "id": "92720135",
   "metadata": {},
   "outputs": [
    {
     "ename": "ERROR",
     "evalue": "Error in fviz_gap_stat(stat_gap): could not find function \"fviz_gap_stat\"\n",
     "output_type": "error",
     "traceback": [
      "Error in fviz_gap_stat(stat_gap): could not find function \"fviz_gap_stat\"\nTraceback:\n"
     ]
    }
   ],
   "source": [
    "fviz_gap_stat(stat_gap)"
   ]
  },
  {
   "cell_type": "code",
   "execution_count": 62,
   "id": "56e6fe2e",
   "metadata": {},
   "outputs": [
    {
     "data": {
      "text/plain": [
       "K-means clustering with 6 clusters of sizes 35, 22, 38, 44, 22, 39\n",
       "\n",
       "Cluster means:\n",
       "       Age Annual.Income..k.. Spending.Score..1.100.\n",
       "1 41.68571           88.22857               17.28571\n",
       "2 44.31818           25.77273               20.27273\n",
       "3 27.00000           56.65789               49.13158\n",
       "4 56.34091           53.70455               49.38636\n",
       "5 25.27273           25.72727               79.36364\n",
       "6 32.69231           86.53846               82.12821\n",
       "\n",
       "Clustering vector:\n",
       "  [1] 2 5 2 5 2 5 2 5 2 5 2 5 2 5 2 5 2 5 2 5 2 5 2 5 2 5 2 5 2 5 2 5 2 5 2 5 2\n",
       " [38] 5 2 5 4 5 2 3 2 5 4 3 3 3 4 3 3 4 4 4 4 4 3 4 4 3 4 4 4 3 4 4 3 3 4 4 4 4\n",
       " [75] 4 3 4 3 3 4 4 3 4 4 3 4 4 3 3 4 4 3 4 3 3 3 4 3 4 3 3 4 4 3 4 3 4 4 4 4 4\n",
       "[112] 3 3 3 3 3 4 4 4 4 3 3 3 6 3 6 1 6 1 6 1 6 3 6 1 6 1 6 1 6 1 6 3 6 1 6 1 6\n",
       "[149] 1 6 1 6 1 6 1 6 1 6 1 6 1 6 1 6 1 6 1 6 1 6 1 6 1 6 1 6 1 6 1 6 1 6 1 6 1\n",
       "[186] 6 1 6 1 6 1 6 1 6 1 6 1 6 1 6\n",
       "\n",
       "Within cluster sum of squares by cluster:\n",
       "[1] 16690.857  8189.000  7742.895  7607.477  4099.818 13972.359\n",
       " (between_SS / total_SS =  81.1 %)\n",
       "\n",
       "Available components:\n",
       "\n",
       "[1] \"cluster\"      \"centers\"      \"totss\"        \"withinss\"     \"tot.withinss\"\n",
       "[6] \"betweenss\"    \"size\"         \"iter\"         \"ifault\"      "
      ]
     },
     "metadata": {},
     "output_type": "display_data"
    }
   ],
   "source": [
    "k6<-kmeans(Customer_df[,3:5],6,iter.max=100,nstart=50,algorithm=\"Lloyd\")\n",
    "k6"
   ]
  },
  {
   "cell_type": "code",
   "execution_count": 63,
   "id": "b3986c60",
   "metadata": {},
   "outputs": [
    {
     "data": {
      "text/plain": [
       "Importance of components:\n",
       "                           PC1     PC2     PC3\n",
       "Standard deviation     26.4625 26.1597 12.9317\n",
       "Proportion of Variance  0.4512  0.4410  0.1078\n",
       "Cumulative Proportion   0.4512  0.8922  1.0000"
      ]
     },
     "metadata": {},
     "output_type": "display_data"
    }
   ],
   "source": [
    "pcclust=prcomp(Customer_df[,3:5],scale=FALSE) #principal component analysis\n",
    "summary(pcclust)\n"
   ]
  },
  {
   "cell_type": "code",
   "execution_count": 64,
   "id": "56caed1f",
   "metadata": {},
   "outputs": [
    {
     "data": {
      "text/html": [
       "<table>\n",
       "<thead><tr><th></th><th scope=col>PC1</th><th scope=col>PC2</th></tr></thead>\n",
       "<tbody>\n",
       "\t<tr><th scope=row>Age</th><td> 0.1889742</td><td>-0.1309652</td></tr>\n",
       "\t<tr><th scope=row>Annual.Income..k..</th><td>-0.5886410</td><td>-0.8083757</td></tr>\n",
       "\t<tr><th scope=row>Spending.Score..1.100.</th><td>-0.7859965</td><td> 0.5739136</td></tr>\n",
       "</tbody>\n",
       "</table>\n"
      ],
      "text/latex": [
       "\\begin{tabular}{r|ll}\n",
       "  & PC1 & PC2\\\\\n",
       "\\hline\n",
       "\tAge &  0.1889742 & -0.1309652\\\\\n",
       "\tAnnual.Income..k.. & -0.5886410 & -0.8083757\\\\\n",
       "\tSpending.Score..1.100. & -0.7859965 &  0.5739136\\\\\n",
       "\\end{tabular}\n"
      ],
      "text/markdown": [
       "\n",
       "| <!--/--> | PC1 | PC2 |\n",
       "|---|---|---|\n",
       "| Age |  0.1889742 | -0.1309652 |\n",
       "| Annual.Income..k.. | -0.5886410 | -0.8083757 |\n",
       "| Spending.Score..1.100. | -0.7859965 |  0.5739136 |\n",
       "\n"
      ],
      "text/plain": [
       "                       PC1        PC2       \n",
       "Age                     0.1889742 -0.1309652\n",
       "Annual.Income..k..     -0.5886410 -0.8083757\n",
       "Spending.Score..1.100. -0.7859965  0.5739136"
      ]
     },
     "metadata": {},
     "output_type": "display_data"
    }
   ],
   "source": [
    "pcclust$rotation[,1:2]"
   ]
  }
 ],
 "metadata": {
  "kernelspec": {
   "display_name": "R",
   "language": "R",
   "name": "ir"
  },
  "language_info": {
   "codemirror_mode": "r",
   "file_extension": ".r",
   "mimetype": "text/x-r-source",
   "name": "R",
   "pygments_lexer": "r",
   "version": "3.6.1"
  }
 },
 "nbformat": 4,
 "nbformat_minor": 5
}
